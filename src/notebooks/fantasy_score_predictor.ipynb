{
 "cells": [
  {
   "cell_type": "code",
   "execution_count": 1,
   "id": "1ba3cf1d-dc77-4e06-831e-f18c1783a9cf",
   "metadata": {},
   "outputs": [],
   "source": [
    "import os\n",
    "import pandas as pd\n",
    "import numpy as np\n",
    "from collections import Counter\n",
    "from itertools import combinations, product\n",
    "from sklearn.linear_model import LinearRegression, Ridge, Lasso\n",
    "from sklearn.ensemble import RandomForestRegressor\n",
    "from sklearn.svm import SVR\n",
    "from sklearn.metrics import mean_squared_error\n",
    "from datetime import datetime\n",
    "import itertools\n",
    "from xgboost import XGBRegressor"
   ]
  },
  {
   "cell_type": "code",
   "execution_count": 2,
   "id": "ef52bf47",
   "metadata": {},
   "outputs": [
    {
     "data": {
      "text/plain": [
       "'m:\\\\coding\\\\f1_fantasy_combinator\\\\src'"
      ]
     },
     "execution_count": 2,
     "metadata": {},
     "output_type": "execute_result"
    }
   ],
   "source": [
    "os.chdir(\"..\")\n",
    "os.getcwd()"
   ]
  },
  {
   "cell_type": "code",
   "execution_count": 3,
   "id": "10f12448",
   "metadata": {},
   "outputs": [],
   "source": [
    "from utils import read_json\n",
    "from config import driver_code_to_driver_mapping as driver_code_to_driver_name_mapping\n",
    "\n",
    "driver_data_path = \"data_collection/data/driver\" \n",
    "team_data_path = \"data_collection/data/constructor\" \n",
    "driver_list = os.listdir(driver_data_path)\n"
   ]
  },
  {
   "cell_type": "code",
   "execution_count": 4,
   "id": "0bba0c9e-e48f-4d11-8c95-8ce90b44eb1a",
   "metadata": {},
   "outputs": [],
   "source": [
    "def train(model_dict, model_type, driver_name, X, y):\n",
    "    X_array, y_array = np.array(X), np.array(y)\n",
    "    match model_type:\n",
    "        case \"svr\":\n",
    "            reg = SVR(kernel=\"rbf\").fit(X_array, y_array)\n",
    "        case \"rf\":\n",
    "            reg = RandomForestRegressor(max_depth=3).fit(X_array, y_array)\n",
    "        case \"ridge\":\n",
    "            reg = Ridge(alpha=1.0).fit(X_array, y_array)\n",
    "        case \"lg\":\n",
    "            reg = LinearRegression().fit(X_array, y_array)\n",
    "        case \"xgb\":\n",
    "            reg = XGBRegressor().fit(X_array, y_array)\n",
    "    model_dict[driver_name] = reg\n",
    "    return model_dict\n",
    "\n",
    "def predict(model_dict, driver_name, X):\n",
    "    return round(model_dict[driver_name].predict(X)[0]) "
   ]
  },
  {
   "cell_type": "code",
   "execution_count": 5,
   "id": "53e8473b-cb63-4c65-97ab-ca95415b8c6e",
   "metadata": {},
   "outputs": [],
   "source": [
    "def calculate_avg_array_from_cumsum(input_cumsum):\n",
    "    return input_cumsum/np.arange(1,len(input_cumsum)+1)\n",
    "\n",
    "def get_previous_avg_overtakes(race_before_json):\n",
    "    overtakes = [x['overtake'] for x in race_before_json.values()]\n",
    "    overtake_cumsum = np.cumsum(overtakes)\n",
    "    avg_overtake_points_array = calculate_avg_array_from_cumsum(overtake_cumsum) #overtake_cumsum/np.arange(1,len(overtake_cumsum)+1)\n",
    "    return avg_overtake_points_array\n",
    "\n",
    "def get_dotd_probability(race_before_json):\n",
    "    dotd = [x['dotd'] for x in race_before_json.values()]\n",
    "    dotd_cumsum = np.cumsum(dotd)\n",
    "    avg_overtake_points_array = calculate_avg_array_from_cumsum(dotd_cumsum) #dotd_cumsum/np.arange(1,len(dotd_cumsum)+1)\n",
    "    return avg_overtake_points_array\n",
    "\n",
    "def get_previous_fantasy_scores(race_before_json):\n",
    "    fantasy_scores = [x['fantasy_score'] for x in race_before_json.values()]\n",
    "    fantasy_cumsum = np.cumsum(fantasy_scores)\n",
    "    avg_fantasy_points_array = calculate_avg_array_from_cumsum(fantasy_cumsum) #fantasy_cumsum/np.arange(1,len(fantasy_cumsum)+1)\n",
    "    return avg_fantasy_points_array\n",
    "\n",
    "def get_previous_dnf_prob(race_before_json):\n",
    "    is_dnf = [x['dnf'] for x in race_before_json.values()]\n",
    "    dnf_cumsum = np.cumsum(is_dnf)\n",
    "    dnf_prob_array = calculate_avg_array_from_cumsum(dnf_cumsum) #dnf_cumsum/np.arange(1,len(dnf_cumsum)+1)\n",
    "    return dnf_prob_array"
   ]
  },
  {
   "cell_type": "code",
   "execution_count": 6,
   "id": "2910ab5a",
   "metadata": {},
   "outputs": [],
   "source": [
    "def form_x_y(data_json, feature_set, is_training):\n",
    "    fp1_array, fp2_array, fp3_array, fp_weighted_mean = get_free_practice_info(data_json, is_training) \n",
    "    #transformations\n",
    "    if is_training:\n",
    "        fantasy_scores = [x['fantasy_score'] for x in data_json.values()]\n",
    "        dnf_prob_array = get_previous_dnf_prob(data_json)\n",
    "        avg_overtake_array = get_previous_avg_overtakes(data_json)\n",
    "        dotd_prob = get_dotd_probability(data_json)\n",
    "        previous_score_array = get_previous_fantasy_scores(data_json)\n",
    "        # weight_fp_mean_array = get_weighted_fp_mean_array(data_json)\n",
    "    else:\n",
    "        fantasy_scores = 0\n",
    "        dnf_prob_array = get_previous_dnf_prob(data_json)[-1]\n",
    "        avg_overtake_array = get_previous_avg_overtakes(data_json)[-1]\n",
    "        dotd_prob = get_dotd_probability(data_json)[-1]\n",
    "        previous_score_array = get_previous_fantasy_scores(data_json)[-1]\n",
    "        # weight_fp_mean_array = get_weighted_fp_mean_array(data_json)[-1]\n",
    "\n",
    "    temp_df = pd.DataFrame({\n",
    "        \"fp1\" : fp1_array,\n",
    "        \"fp2\": fp2_array,\n",
    "        \"fp3\": fp3_array,\n",
    "        \"avg_score\" : previous_score_array,\n",
    "        \"avg_overtake\": avg_overtake_array,\n",
    "        \"dnf_prob\": dnf_prob_array,\n",
    "        \"dotd_prob\": dotd_prob,\n",
    "        \"weighted_fp_mean\": fp_weighted_mean,\n",
    "        \"y\": fantasy_scores\n",
    "    })\n",
    "    \n",
    "    temp_df = temp_df.dropna()\n",
    "    \n",
    "    return temp_df[feature_set], temp_df[\"y\"]\n",
    "\n",
    "def get_free_practice_info(data_json, is_training):\n",
    "    fp1_array = []\n",
    "    fp2_array = []\n",
    "    fp3_array = []\n",
    "    fp_mean_array = []\n",
    "    raw_info = [(x['fp1'], x.get('fp2', np.nan), x.get('fp3', np.nan), x.get(\"sprint_quali\", np.nan), x[\"dnf\"]) for x in data_json.values()]\n",
    "    for fp1, fp2, fp3, sprint_quali, is_dnf in raw_info:\n",
    "        if not (is_dnf and is_training):\n",
    "            mean_val = np.nanmean([int(x) for x in [fp1, fp2, fp3, sprint_quali] if not x is np.nan])\n",
    "            if not sprint_quali is np.nan:\n",
    "                fp3_array.append(int(np.nan_to_num(sprint_quali, nan= mean_val)))\n",
    "                fp2_array.append(int(np.nan_to_num(fp1, nan= mean_val)))\n",
    "                fp1_array.append(int(np.nan_to_num(fp1, nan= mean_val)))\n",
    "            else:\n",
    "                fp3_array.append(int(np.nan_to_num(fp3, nan= mean_val)))\n",
    "                fp2_array.append(int(np.nan_to_num(fp2, nan= mean_val)))\n",
    "                fp1_array.append(int(np.nan_to_num(fp1, nan= mean_val)))\n",
    "\n",
    "            fp_mean_array.append(round(np.average([fp1_array[-1], fp2_array[-1], fp3_array[-1]], weights=[2,5,10]),3))\n",
    "        else:\n",
    "            fp3_array.append(None)\n",
    "            fp2_array.append(None)\n",
    "            fp1_array.append(None)\n",
    "            fp_mean_array.append(0)\n",
    "    \n",
    "    return fp1_array, fp2_array, fp3_array, fp_mean_array"
   ]
  },
  {
   "cell_type": "code",
   "execution_count": 7,
   "id": "9c956af3",
   "metadata": {},
   "outputs": [],
   "source": [
    "def train_fantasy_score_from_practice_model(model_dict, model_type, feature_set, driver_name, data_json, till_race_no):\n",
    "    race_before_json = {}\n",
    "    for i in range(1,till_race_no):\n",
    "        race_before_json[f\"race_{i}\"] = data_json[f\"race_{i}\"]\n",
    "    \n",
    "    X, y = form_x_y(race_before_json, feature_set, is_training=True)\n",
    "\n",
    "    model_dict = train(model_dict, model_type, driver_name, X, y)\n",
    "    return model_dict\n",
    "\n",
    "def predict_fantasy_score_from_practice_model(model_dict, feature_set, driver_name, race_no):\n",
    "    driver_json = read_json(os.path.join(driver_data_path, f\"{driver_name}.json\"))\n",
    "    ##filter driver_json for specific race\n",
    "    input_json = {}\n",
    "    race_before_json = {}\n",
    "    input_json[f\"race_{race_no}\"] = driver_json[f\"race_{race_no}\"]\n",
    "    \n",
    "    for i in range(1,race_no):\n",
    "        race_before_json[f\"race_{i}\"] = driver_json[f\"race_{i}\"]\n",
    "    \n",
    "    X, _ = form_x_y(input_json, feature_set, is_training=False)\n",
    "    # X = np.array(get_free_practice_info(input_json))\n",
    "    return predict(model_dict, driver_name, np.array(X))"
   ]
  },
  {
   "cell_type": "markdown",
   "id": "19c57531-3f9f-4535-8ce0-b0a463bb88fe",
   "metadata": {},
   "source": [
    "### Approach 3 - using fp1, fp2, fp3 to predict fantasy scores\n"
   ]
  },
  {
   "cell_type": "markdown",
   "id": "60f7c845-0afb-4cdf-9a67-90f1696959d8",
   "metadata": {},
   "source": [
    "### Validating current approach using simulation"
   ]
  },
  {
   "cell_type": "code",
   "execution_count": 8,
   "id": "761f6f37",
   "metadata": {},
   "outputs": [],
   "source": [
    "def calculate_mse_for_df(input_df):\n",
    "    return mean_squared_error(input_df.actual_fantasy_points, input_df.predicted_fantasy_points)"
   ]
  },
  {
   "cell_type": "code",
   "execution_count": 9,
   "id": "2200a44a",
   "metadata": {},
   "outputs": [],
   "source": [
    "def calculate_cost_change(team_array, master_dict):\n",
    "    cost_change = 0\n",
    "    for team_member in team_array:\n",
    "        # driver_change\n",
    "        if team_member in master_dict[\"driver\"]:\n",
    "            cost_change+=np.nan_to_num(master_dict[\"driver\"][team_member][\"cost_change\"], 0)\n",
    "        else:\n",
    "            # team_change\n",
    "            cost_change+=master_dict[\"team\"][team_member][\"cost_change\"] or 0\n",
    "    return round(cost_change,2)"
   ]
  },
  {
   "cell_type": "code",
   "execution_count": 10,
   "id": "dfa8ac8c",
   "metadata": {},
   "outputs": [],
   "source": [
    "def update_constructor_with_predicted_fantasy_score(input_dict, input_df):\n",
    "    team_sum = input_df.groupby(\"team\", as_index=False).sum()[[\"team\",\"predicted_fantasy_points\"]]\n",
    "    for team_name, team_predicted_score in zip(team_sum.team, team_sum.predicted_fantasy_points):\n",
    "        input_dict[team_name][\"predicted_score\"] = team_predicted_score\n",
    "    return input_dict"
   ]
  },
  {
   "cell_type": "code",
   "execution_count": 23,
   "id": "0a1baf06-7391-40e5-b295-8563f2bce55e",
   "metadata": {},
   "outputs": [],
   "source": [
    "dominant_drivers = [\"red_driver_1\", \"red_driver_2\", \"mcl_driver_1\", \"mcl_driver_2\", \"fer_driver_1\", \"fer_driver_2\", \"mer_driver_1\", \"mer_driver_2\"]\n",
    "\n",
    "def find_team_cost(team_combo, master_dict):\n",
    "    team_cost = 0\n",
    "    for team_member in team_combo:\n",
    "        if team_member in master_dict[\"driver\"]:\n",
    "            team_cost+=master_dict[\"driver\"][team_member][\"cost\"]\n",
    "        else:\n",
    "            team_cost+=master_dict[\"team\"][team_member][\"cost\"]\n",
    "    return team_cost\n",
    "\n",
    "def find_team_score_in_reality(team_combo, master_dict, drive_2x = None):\n",
    "    team_score = 0\n",
    "    hightest_score = 0\n",
    "    for team_member in team_combo:\n",
    "        if team_member in master_dict[\"driver\"]:\n",
    "            driver_score = master_dict[\"driver\"][team_member][\"score\"]\n",
    "            if driver_score > hightest_score:\n",
    "                hightest_score = driver_score\n",
    "            team_score+=driver_score\n",
    "        else:\n",
    "            team_score+=master_dict[\"team\"][team_member][\"score\"]\n",
    "    \n",
    "    if drive_2x is None:\n",
    "        return team_score + hightest_score\n",
    "    else:\n",
    "        return team_score + master_dict[\"driver\"][drive_2x][\"score\"]\n",
    "\n",
    "def find_team_score_based_on_predicted_scores(team_combo, master_dict, driver_2x):\n",
    "    team_score = 0\n",
    "    for team_member in team_combo:\n",
    "        if team_member in master_dict[\"driver\"]:\n",
    "            driver_score = master_dict[\"driver\"][team_member][\"predicted_score\"]\n",
    "            team_score+=driver_score\n",
    "        else:\n",
    "            team_score+=master_dict[\"team\"][team_member][\"predicted_score\"]\n",
    "\n",
    "    return team_score + master_dict[\"driver\"][driver_2x][\"predicted_score\"]\n",
    "\n",
    "def recalibrate_2x_driver(predicted_team_df):\n",
    "    for row in range(predicted_team_df.shape[0]):\n",
    "        if predicted_team_df.iloc[row][\"2x_driver\"] not in dominant_drivers:\n",
    "            original_2x_driver = predicted_team_df.iloc[row][\"2x_driver\"]\n",
    "            print(\"Original 2x driver \", original_2x_driver)\n",
    "            print(\"Re-calibrate 2x driver\")\n",
    "            new_2x_driver = [x for x in predicted_team_df.iloc[row][\"team\"] if x in dominant_drivers][0]\n",
    "            print(\"New 2x driver \", new_2x_driver)\n",
    "            predicted_team_df.loc[predicted_team_df['2x_driver']==original_2x_driver, '2x_driver'] = new_2x_driver\n",
    "    return predicted_team_df\n",
    "\n",
    "def find_top_teams(master_dict, budget, top_k, previous_team):\n",
    "    team_cost_array = []\n",
    "    team_real_score_array = []\n",
    "    team_predicted_score_array = []\n",
    "    selected_team_array = []\n",
    "    driver_2x_array = []\n",
    "    penalty_for_additional_team_change_array = []\n",
    "\n",
    "    for combo_driver,combo_team  in product(combinations(master_dict[\"driver\"].keys(), 5), combinations(master_dict[\"team\"].keys(), 2)):\n",
    "        penalty_for_additional_team_change = 0\n",
    "        combo = combo_driver + combo_team\n",
    "        team_cost = find_team_cost(combo, master_dict)\n",
    "        if team_cost > budget:\n",
    "            continue\n",
    "        \n",
    "        if len(previous_team)!=0:\n",
    "            additional_changes = max((how_many_drivers_differ(previous_team, combo) - 2), 0)\n",
    "            penalty_for_additional_team_change = 10*additional_changes\n",
    "        \n",
    "        #finding 2x driver\n",
    "        driver_order_based_on_predicted_score = [(master_dict[\"driver\"][x][\"predicted_score\"], x) for x in combo_driver]\n",
    "        predicted_driver_2x = max(driver_order_based_on_predicted_score)[1]\n",
    "\n",
    "        ## optional\n",
    "        for driver_order in driver_order_based_on_predicted_score:\n",
    "            if driver_order[1] in dominant_drivers:\n",
    "                predicted_driver_2x = driver_order[1]\n",
    "                break\n",
    "\n",
    "\n",
    "            #  predicted_driver_2x = [x for x in combo_driver if x in dominant_drivers][0]\n",
    "\n",
    "        # real_driver_2x = max([(master_dict[\"driver\"][x][\"score\"], x) for x in combo_driver])[1]\n",
    "        ## predicted fantasy score team\n",
    "        real_team_score = find_team_score_in_reality(combo, master_dict, predicted_driver_2x) - penalty_for_additional_team_change\n",
    "        predicted_team_score = find_team_score_based_on_predicted_scores(combo, master_dict, predicted_driver_2x) - penalty_for_additional_team_change\n",
    "        \n",
    "        # print(combo, team_cost, team_score)\n",
    "        driver_2x_array.append(predicted_driver_2x)\n",
    "        team_cost_array.append(team_cost)\n",
    "        selected_team_array.append(list(combo))\n",
    "        team_real_score_array.append(real_team_score)\n",
    "        team_predicted_score_array.append(predicted_team_score)\n",
    "        penalty_for_additional_team_change_array.append(penalty_for_additional_team_change)\n",
    "\n",
    "    top_team_df = pd.DataFrame({\n",
    "        \"team\" : selected_team_array,\n",
    "        \"cost\": team_cost_array,\n",
    "        \"predicted_score\": team_predicted_score_array,\n",
    "        \"real_score\": team_real_score_array,\n",
    "        \"2x_driver\": driver_2x_array,\n",
    "        \"additional_change_penalty\": penalty_for_additional_team_change_array\n",
    "    })\n",
    "\n",
    "    theoretical_best_team = top_team_df.sort_values(by=\"real_score\", ascending=False)[:top_k]\n",
    "    top_predicted_team = top_team_df.sort_values(by=\"predicted_score\", ascending=False)[:top_k]\n",
    "    # top_predicted_team = recalibrate_2x_driver(top_predicted_team)\n",
    "\n",
    "    # top_predicted_team[\"real_score\"] = find_team_score_in_reality(top_predicted_team[\"team\"].values[0], \n",
    "    #                                                                              master_dict, \n",
    "    #                                                                              top_predicted_team[\"2x_driver\"].values[0]) - top_predicted_team[\"additional_change_penalty\"].values[0]\n",
    "\n",
    "    return top_predicted_team,  theoretical_best_team\n",
    "\n",
    "def how_many_drivers_differ(driver_list_1, driver_list_2):\n",
    "    differing_number = 0\n",
    "    for driver in driver_list_1:\n",
    "        if driver not in driver_list_2:\n",
    "            differing_number+=1\n",
    "    return differing_number\n",
    "\n",
    "def form_driver_cost_score_dict(race_df):\n",
    "    output_dict = {}\n",
    "    for driver, score, cost, predicted_score, cost_change in zip(race_df.driver, race_df.actual_fantasy_points, race_df.fantasy_cost, \n",
    "                                                                 race_df.predicted_fantasy_points, race_df.cost_change):\n",
    "        output_dict[driver] = {\"cost\": cost, \"score\":score, \"predicted_score\":predicted_score, \"cost_change\":cost_change}\n",
    "    return output_dict\n",
    "\n",
    "def form_team_cost_score_dict(team_array, score_array, cost_array):\n",
    "    output_dict = {}\n",
    "    for team, score, cost in zip(team_array, score_array, cost_array):\n",
    "        output_dict[team] = {\"cost\": cost, \"score\":score}\n",
    "    return output_dict\n",
    "\n",
    "def driver_code_from_driver_name(input_driver_name):\n",
    "    for driver_code, driver_name in driver_code_to_driver_name_mapping.items():\n",
    "        if driver_name == input_driver_name:\n",
    "            return driver_code"
   ]
  },
  {
   "cell_type": "markdown",
   "id": "e9e8aba3",
   "metadata": {},
   "source": [
    "#### try brute force: calculate mse for all model, all feature sets"
   ]
  },
  {
   "cell_type": "code",
   "execution_count": 24,
   "id": "50307c80",
   "metadata": {},
   "outputs": [],
   "source": [
    "# from itertools import chain, product\n",
    "# feature_available = [\"avg_score\",\"avg_overtake\",\"dnf_prob\",\"dotd_prob\", \"weighted_fp_mean\"]\n",
    "# all_possible_feature_combination = []\n",
    "# for L in range(len(feature_available) + 1):\n",
    "#     for subset in itertools.combinations(feature_available, L):\n",
    "#         combo = [\"fp1\", \"fp2\", \"fp3\"] + list(subset)\n",
    "#         all_possible_feature_combination.append(combo)\n"
   ]
  },
  {
   "cell_type": "code",
   "execution_count": 25,
   "id": "f1629b5c",
   "metadata": {},
   "outputs": [],
   "source": [
    "# from tqdm import tqdm\n",
    "# fantasy_score_model_from_fp_dict = {}\n",
    "\n",
    "# mse_array = []\n",
    "# model_type_array = []\n",
    "# feature_array = []\n",
    "\n",
    "# for model_type in tqdm([\"rf\", \"svr\", \"xgb\"]):\n",
    "#     for feature_set in tqdm(all_possible_feature_combination):\n",
    "#         predicted_fantasy_points_array = []\n",
    "#         actual_fantasy_points_array = []\n",
    "#         for race_no in range(2,25):\n",
    "#             for driver_data in driver_list:\n",
    "#                 driver_name = driver_data.split(\".\")[0]\n",
    "#                 driver_json = read_json(os.path.join(driver_data_path, driver_data))\n",
    "#                 fantasy_score_model_from_fp_dict = train_fantasy_score_from_practice_model(fantasy_score_model_from_fp_dict, model_type, list(feature_set), driver_name, \n",
    "#                                                                                     driver_json, till_race_no=race_no)\n",
    "#                 predicted_fantasy_points = predict_fantasy_score_from_practice_model(fantasy_score_model_from_fp_dict, list(feature_set), driver_name, race_no)\n",
    "#                 actual_fantasy_points = driver_json[f\"race_{race_no}\"][\"fantasy_score\"]\n",
    "#                 predicted_fantasy_points_array.append(predicted_fantasy_points)\n",
    "#                 actual_fantasy_points_array.append(actual_fantasy_points)\n",
    "\n",
    "#         prediction_df = pd.DataFrame({\n",
    "#                 \"predicted_fantasy_points\": predicted_fantasy_points_array,\n",
    "#                 \"actual_fantasy_points\" : actual_fantasy_points_array,\n",
    "#             })\n",
    "#         mse_array.append(calculate_mse_for_df(prediction_df))\n",
    "#         model_type_array.append(model_type)\n",
    "#         feature_array.append(feature_set)\n",
    "\n",
    "# df = pd.DataFrame({\n",
    "#     \"model\": model_type_array,\n",
    "#     \"feature_set\": feature_array,\n",
    "#     \"error\" : mse_array,\n",
    "# })\n",
    "\n",
    "# df.to_csv(\"notebooks/exploration_3_df.csv\", index=False)"
   ]
  },
  {
   "cell_type": "code",
   "execution_count": 26,
   "id": "075e2e03",
   "metadata": {},
   "outputs": [],
   "source": [
    "heuristic_scores = [40, 30, 25, 20, 20] + list(range(15,0,-1))\n",
    "fp1_array = []\n",
    "fp2_array = []\n",
    "fp3_array = []\n",
    "fantasy_score_array = []\n",
    "for driver in driver_list:\n",
    "    driver_json = read_json(os.path.join(driver_data_path, driver))\n",
    "    race1_json = driver_json[\"race_1\"]\n",
    "    fp1_array.append(int(race1_json[\"fp1\"]))\n",
    "    fp2_array.append(int(race1_json[\"fp2\"]))\n",
    "    fp3_array.append(int(race1_json[\"fp3\"]))\n",
    "    fantasy_score_array.append(int(race1_json[\"fantasy_score\"]))\n",
    "race_1_df = pd.DataFrame({\n",
    "    \"driver\" : [x.split(\".\")[0] for x in driver_list],\n",
    "    \"fp1\" : fp1_array,\n",
    "    \"fp2\" : fp2_array,\n",
    "    \"fp3\": fp3_array,\n",
    "    \"fantasy_score\": fantasy_score_array\n",
    "})\n",
    "race_1_df[\"weighted_fp_mean\"] = race_1_df.apply(lambda x : round(np.average([x.fp1, x.fp2, x.fp3], weights=[2,5,10]),2), axis=1)\n",
    "race_1_prediction_dict = dict(zip(race_1_df.sort_values(by=\"weighted_fp_mean\")[\"driver\"].to_list(), heuristic_scores))\n",
    "    "
   ]
  },
  {
   "cell_type": "code",
   "execution_count": 27,
   "id": "7c0a8841",
   "metadata": {},
   "outputs": [
    {
     "data": {
      "text/html": [
       "<div>\n",
       "<style scoped>\n",
       "    .dataframe tbody tr th:only-of-type {\n",
       "        vertical-align: middle;\n",
       "    }\n",
       "\n",
       "    .dataframe tbody tr th {\n",
       "        vertical-align: top;\n",
       "    }\n",
       "\n",
       "    .dataframe thead th {\n",
       "        text-align: right;\n",
       "    }\n",
       "</style>\n",
       "<table border=\"1\" class=\"dataframe\">\n",
       "  <thead>\n",
       "    <tr style=\"text-align: right;\">\n",
       "      <th></th>\n",
       "      <th>driver</th>\n",
       "      <th>fp1</th>\n",
       "      <th>fp2</th>\n",
       "      <th>fp3</th>\n",
       "      <th>fantasy_score</th>\n",
       "      <th>weighted_fp_mean</th>\n",
       "    </tr>\n",
       "  </thead>\n",
       "  <tbody>\n",
       "    <tr>\n",
       "      <th>0</th>\n",
       "      <td>alp_driver_1</td>\n",
       "      <td>18</td>\n",
       "      <td>16</td>\n",
       "      <td>20</td>\n",
       "      <td>6</td>\n",
       "      <td>18.59</td>\n",
       "    </tr>\n",
       "    <tr>\n",
       "      <th>1</th>\n",
       "      <td>alp_driver_2</td>\n",
       "      <td>17</td>\n",
       "      <td>18</td>\n",
       "      <td>18</td>\n",
       "      <td>7</td>\n",
       "      <td>17.88</td>\n",
       "    </tr>\n",
       "    <tr>\n",
       "      <th>2</th>\n",
       "      <td>ast_driver_1</td>\n",
       "      <td>5</td>\n",
       "      <td>3</td>\n",
       "      <td>2</td>\n",
       "      <td>7</td>\n",
       "      <td>2.65</td>\n",
       "    </tr>\n",
       "    <tr>\n",
       "      <th>3</th>\n",
       "      <td>ast_driver_2</td>\n",
       "      <td>14</td>\n",
       "      <td>8</td>\n",
       "      <td>10</td>\n",
       "      <td>8</td>\n",
       "      <td>9.88</td>\n",
       "    </tr>\n",
       "    <tr>\n",
       "      <th>4</th>\n",
       "      <td>fer_driver_1</td>\n",
       "      <td>8</td>\n",
       "      <td>9</td>\n",
       "      <td>4</td>\n",
       "      <td>22</td>\n",
       "      <td>5.94</td>\n",
       "    </tr>\n",
       "    <tr>\n",
       "      <th>5</th>\n",
       "      <td>fer_driver_2</td>\n",
       "      <td>11</td>\n",
       "      <td>4</td>\n",
       "      <td>1</td>\n",
       "      <td>36</td>\n",
       "      <td>3.06</td>\n",
       "    </tr>\n",
       "    <tr>\n",
       "      <th>6</th>\n",
       "      <td>haa_driver_1</td>\n",
       "      <td>20</td>\n",
       "      <td>7</td>\n",
       "      <td>9</td>\n",
       "      <td>-3</td>\n",
       "      <td>9.71</td>\n",
       "    </tr>\n",
       "    <tr>\n",
       "      <th>7</th>\n",
       "      <td>haa_driver_2</td>\n",
       "      <td>19</td>\n",
       "      <td>14</td>\n",
       "      <td>14</td>\n",
       "      <td>7</td>\n",
       "      <td>14.59</td>\n",
       "    </tr>\n",
       "    <tr>\n",
       "      <th>8</th>\n",
       "      <td>kck_driver_1</td>\n",
       "      <td>10</td>\n",
       "      <td>17</td>\n",
       "      <td>17</td>\n",
       "      <td>0</td>\n",
       "      <td>16.18</td>\n",
       "    </tr>\n",
       "    <tr>\n",
       "      <th>9</th>\n",
       "      <td>kck_driver_2</td>\n",
       "      <td>15</td>\n",
       "      <td>19</td>\n",
       "      <td>16</td>\n",
       "      <td>11</td>\n",
       "      <td>16.76</td>\n",
       "    </tr>\n",
       "    <tr>\n",
       "      <th>10</th>\n",
       "      <td>mcl_driver_1</td>\n",
       "      <td>2</td>\n",
       "      <td>20</td>\n",
       "      <td>5</td>\n",
       "      <td>16</td>\n",
       "      <td>9.06</td>\n",
       "    </tr>\n",
       "    <tr>\n",
       "      <th>11</th>\n",
       "      <td>mcl_driver_2</td>\n",
       "      <td>3</td>\n",
       "      <td>5</td>\n",
       "      <td>7</td>\n",
       "      <td>10</td>\n",
       "      <td>5.94</td>\n",
       "    </tr>\n",
       "    <tr>\n",
       "      <th>12</th>\n",
       "      <td>mer_driver_1</td>\n",
       "      <td>9</td>\n",
       "      <td>1</td>\n",
       "      <td>12</td>\n",
       "      <td>12</td>\n",
       "      <td>8.41</td>\n",
       "    </tr>\n",
       "    <tr>\n",
       "      <th>13</th>\n",
       "      <td>mer_driver_2</td>\n",
       "      <td>7</td>\n",
       "      <td>2</td>\n",
       "      <td>6</td>\n",
       "      <td>20</td>\n",
       "      <td>4.94</td>\n",
       "    </tr>\n",
       "    <tr>\n",
       "      <th>14</th>\n",
       "      <td>red_driver_1</td>\n",
       "      <td>6</td>\n",
       "      <td>6</td>\n",
       "      <td>3</td>\n",
       "      <td>45</td>\n",
       "      <td>4.24</td>\n",
       "    </tr>\n",
       "    <tr>\n",
       "      <th>15</th>\n",
       "      <td>red_driver_2</td>\n",
       "      <td>12</td>\n",
       "      <td>10</td>\n",
       "      <td>8</td>\n",
       "      <td>31</td>\n",
       "      <td>9.06</td>\n",
       "    </tr>\n",
       "    <tr>\n",
       "      <th>16</th>\n",
       "      <td>vrb_driver_1</td>\n",
       "      <td>4</td>\n",
       "      <td>15</td>\n",
       "      <td>13</td>\n",
       "      <td>-1</td>\n",
       "      <td>12.53</td>\n",
       "    </tr>\n",
       "    <tr>\n",
       "      <th>17</th>\n",
       "      <td>vrb_driver_2</td>\n",
       "      <td>1</td>\n",
       "      <td>12</td>\n",
       "      <td>11</td>\n",
       "      <td>5</td>\n",
       "      <td>10.12</td>\n",
       "    </tr>\n",
       "    <tr>\n",
       "      <th>18</th>\n",
       "      <td>wil_driver_1</td>\n",
       "      <td>13</td>\n",
       "      <td>11</td>\n",
       "      <td>15</td>\n",
       "      <td>0</td>\n",
       "      <td>13.59</td>\n",
       "    </tr>\n",
       "    <tr>\n",
       "      <th>19</th>\n",
       "      <td>wil_driver_2</td>\n",
       "      <td>16</td>\n",
       "      <td>13</td>\n",
       "      <td>19</td>\n",
       "      <td>3</td>\n",
       "      <td>16.88</td>\n",
       "    </tr>\n",
       "  </tbody>\n",
       "</table>\n",
       "</div>"
      ],
      "text/plain": [
       "          driver  fp1  fp2  fp3  fantasy_score  weighted_fp_mean\n",
       "0   alp_driver_1   18   16   20              6             18.59\n",
       "1   alp_driver_2   17   18   18              7             17.88\n",
       "2   ast_driver_1    5    3    2              7              2.65\n",
       "3   ast_driver_2   14    8   10              8              9.88\n",
       "4   fer_driver_1    8    9    4             22              5.94\n",
       "5   fer_driver_2   11    4    1             36              3.06\n",
       "6   haa_driver_1   20    7    9             -3              9.71\n",
       "7   haa_driver_2   19   14   14              7             14.59\n",
       "8   kck_driver_1   10   17   17              0             16.18\n",
       "9   kck_driver_2   15   19   16             11             16.76\n",
       "10  mcl_driver_1    2   20    5             16              9.06\n",
       "11  mcl_driver_2    3    5    7             10              5.94\n",
       "12  mer_driver_1    9    1   12             12              8.41\n",
       "13  mer_driver_2    7    2    6             20              4.94\n",
       "14  red_driver_1    6    6    3             45              4.24\n",
       "15  red_driver_2   12   10    8             31              9.06\n",
       "16  vrb_driver_1    4   15   13             -1             12.53\n",
       "17  vrb_driver_2    1   12   11              5             10.12\n",
       "18  wil_driver_1   13   11   15              0             13.59\n",
       "19  wil_driver_2   16   13   19              3             16.88"
      ]
     },
     "execution_count": 27,
     "metadata": {},
     "output_type": "execute_result"
    }
   ],
   "source": [
    "# race_1_df[\"mean_fp\"] = race_1_df.apply(lambda x : np.mean([x.fp1, x.fp2, x.fp3]), axis=1)\n",
    "# race_1_df[\"weighted_fp_mean\"] = race_1_df.apply(lambda x : round(np.average([x.fp1, x.fp2, x.fp3], weights=[2,5,10]),2), axis=1)\n",
    "# race_1_df[[\"fp1\", \"fp2\", \"fp3\",\"mean_fp\", \"fantasy_score\"]].corr()\n",
    "race_1_df"
   ]
  },
  {
   "cell_type": "code",
   "execution_count": 16,
   "id": "bf322942-51f6-4b76-8da0-99223be84fb5",
   "metadata": {},
   "outputs": [],
   "source": [
    "fantasy_score_model_from_fp_dict = {}\n",
    "race_no_array = []\n",
    "driver_array = []\n",
    "predicted_fantasy_points_array = []\n",
    "actual_fantasy_points_array = []\n",
    "fantasy_cost_array = []\n",
    "dnf_array = []\n",
    "race_name_array = []\n",
    "cost_change_array = []\n",
    "model_type = \"rf\"\n",
    "feature_set = ['fp1', 'fp2', 'fp3', 'avg_score', 'dnf_prob', 'dotd_prob']\n",
    "## for race-1\n",
    "for race_no in range(1,25):\n",
    "    # train for n-1 races\n",
    "    for driver_data in driver_list:\n",
    "        driver_name = driver_data.split(\".\")[0]\n",
    "        driver_json = read_json(os.path.join(driver_data_path, driver_data))\n",
    "        \n",
    "        # if this is first race, dont train anything directly predict using free practice\n",
    "        if race_no == 1:\n",
    "            predicted_fantasy_points_array.append(race_1_prediction_dict[driver_name])\n",
    "        else:\n",
    "            fantasy_score_model_from_fp_dict = train_fantasy_score_from_practice_model(fantasy_score_model_from_fp_dict, model_type, feature_set, driver_name, \n",
    "                                                                                    driver_json, till_race_no=race_no)\n",
    "            # predict for nth race\n",
    "            predicted_fantasy_points = predict_fantasy_score_from_practice_model(fantasy_score_model_from_fp_dict, feature_set, driver_name, race_no)\n",
    "            predicted_fantasy_points_array.append(predicted_fantasy_points)\n",
    "        \n",
    "        actual_fantasy_points = driver_json[f\"race_{race_no}\"][\"fantasy_score\"]\n",
    "        race_no_array.append(race_no)\n",
    "        race_name_array.append(driver_json[f\"race_{race_no}\"][\"race_name\"])\n",
    "        driver_array.append(driver_name)\n",
    "        actual_fantasy_points_array.append(actual_fantasy_points)\n",
    "        fantasy_cost_array.append(driver_json[f\"race_{race_no}\"][\"fantasy_cost\"])\n",
    "        dnf_array.append(driver_json[f\"race_{race_no}\"][\"dnf\"])\n",
    "        cost_change_array.append(driver_json[f\"race_{race_no}\"][\"cost_change\"])\n",
    "\n",
    "prediction_df = pd.DataFrame({\n",
    "    \"race_no\" : race_no_array,\n",
    "    \"race_name\": race_name_array,\n",
    "    \"driver\": driver_array,\n",
    "    \"dnf\": dnf_array,\n",
    "    \"predicted_fantasy_points\": predicted_fantasy_points_array,\n",
    "    \"actual_fantasy_points\" : actual_fantasy_points_array,\n",
    "    \"fantasy_cost\" : fantasy_cost_array,\n",
    "    \"cost_change\": cost_change_array,\n",
    "})\n",
    "prediction_df[\"team\"] = prediction_df.driver.apply(lambda x: x.split(\"_\")[0])"
   ]
  },
  {
   "cell_type": "code",
   "execution_count": 17,
   "id": "64feaa1c",
   "metadata": {},
   "outputs": [
    {
     "data": {
      "text/html": [
       "<div>\n",
       "<style scoped>\n",
       "    .dataframe tbody tr th:only-of-type {\n",
       "        vertical-align: middle;\n",
       "    }\n",
       "\n",
       "    .dataframe tbody tr th {\n",
       "        vertical-align: top;\n",
       "    }\n",
       "\n",
       "    .dataframe thead th {\n",
       "        text-align: right;\n",
       "    }\n",
       "</style>\n",
       "<table border=\"1\" class=\"dataframe\">\n",
       "  <thead>\n",
       "    <tr style=\"text-align: right;\">\n",
       "      <th></th>\n",
       "      <th>race_no</th>\n",
       "      <th>race_name</th>\n",
       "      <th>driver</th>\n",
       "      <th>dnf</th>\n",
       "      <th>predicted_fantasy_points</th>\n",
       "      <th>actual_fantasy_points</th>\n",
       "      <th>fantasy_cost</th>\n",
       "      <th>cost_change</th>\n",
       "      <th>team</th>\n",
       "    </tr>\n",
       "  </thead>\n",
       "  <tbody>\n",
       "    <tr>\n",
       "      <th>0</th>\n",
       "      <td>1</td>\n",
       "      <td>bahrain</td>\n",
       "      <td>alp_driver_1</td>\n",
       "      <td>False</td>\n",
       "      <td>1</td>\n",
       "      <td>6</td>\n",
       "      <td>7.8</td>\n",
       "      <td>-0.1</td>\n",
       "      <td>alp</td>\n",
       "    </tr>\n",
       "    <tr>\n",
       "      <th>1</th>\n",
       "      <td>1</td>\n",
       "      <td>bahrain</td>\n",
       "      <td>alp_driver_2</td>\n",
       "      <td>False</td>\n",
       "      <td>2</td>\n",
       "      <td>7</td>\n",
       "      <td>7.8</td>\n",
       "      <td>0.5</td>\n",
       "      <td>alp</td>\n",
       "    </tr>\n",
       "    <tr>\n",
       "      <th>2</th>\n",
       "      <td>1</td>\n",
       "      <td>bahrain</td>\n",
       "      <td>ast_driver_1</td>\n",
       "      <td>False</td>\n",
       "      <td>40</td>\n",
       "      <td>7</td>\n",
       "      <td>15.8</td>\n",
       "      <td>0.1</td>\n",
       "      <td>ast</td>\n",
       "    </tr>\n",
       "    <tr>\n",
       "      <th>3</th>\n",
       "      <td>1</td>\n",
       "      <td>bahrain</td>\n",
       "      <td>ast_driver_2</td>\n",
       "      <td>False</td>\n",
       "      <td>10</td>\n",
       "      <td>8</td>\n",
       "      <td>10.7</td>\n",
       "      <td>0.5</td>\n",
       "      <td>ast</td>\n",
       "    </tr>\n",
       "    <tr>\n",
       "      <th>4</th>\n",
       "      <td>1</td>\n",
       "      <td>bahrain</td>\n",
       "      <td>fer_driver_1</td>\n",
       "      <td>False</td>\n",
       "      <td>20</td>\n",
       "      <td>22</td>\n",
       "      <td>19.1</td>\n",
       "      <td>0.3</td>\n",
       "      <td>fer</td>\n",
       "    </tr>\n",
       "  </tbody>\n",
       "</table>\n",
       "</div>"
      ],
      "text/plain": [
       "   race_no race_name        driver    dnf  predicted_fantasy_points  \\\n",
       "0        1   bahrain  alp_driver_1  False                         1   \n",
       "1        1   bahrain  alp_driver_2  False                         2   \n",
       "2        1   bahrain  ast_driver_1  False                        40   \n",
       "3        1   bahrain  ast_driver_2  False                        10   \n",
       "4        1   bahrain  fer_driver_1  False                        20   \n",
       "\n",
       "   actual_fantasy_points  fantasy_cost  cost_change team  \n",
       "0                      6           7.8         -0.1  alp  \n",
       "1                      7           7.8          0.5  alp  \n",
       "2                      7          15.8          0.1  ast  \n",
       "3                      8          10.7          0.5  ast  \n",
       "4                     22          19.1          0.3  fer  "
      ]
     },
     "execution_count": 17,
     "metadata": {},
     "output_type": "execute_result"
    }
   ],
   "source": [
    "prediction_df.head()"
   ]
  },
  {
   "cell_type": "code",
   "execution_count": 28,
   "id": "7c58d396",
   "metadata": {},
   "outputs": [
    {
     "data": {
      "text/plain": [
       "137.01041666666666"
      ]
     },
     "execution_count": 28,
     "metadata": {},
     "output_type": "execute_result"
    }
   ],
   "source": [
    "calculate_mse_for_df(prediction_df)"
   ]
  },
  {
   "cell_type": "code",
   "execution_count": 29,
   "id": "5259f1f0",
   "metadata": {},
   "outputs": [],
   "source": [
    "## generic prediction for first race"
   ]
  },
  {
   "cell_type": "code",
   "execution_count": 41,
   "id": "38ecb545",
   "metadata": {},
   "outputs": [
    {
     "name": "stdout",
     "output_type": "stream",
     "text": [
      "1. bahrain gp, with budget 100 mse error = 118.45\n",
      "penalty for best team 0\n",
      "predicted best team ['ALO', 'SAI', 'HUL', 'RUS', 'ALB', 'fer', 'ast'], 2x driver SAI with actual score 189 with predicted score 238\n",
      "while actual best team ['OCO', 'STR', 'SAI', 'MAG', 'ZHO', 'red', 'fer'] with best possible score of 267\n",
      "Number of drivers differed in predicted and actual best teams 5\n",
      "Number of drivers changed from previous team selection 0\n",
      "--- - -- - - - - -  - -\n",
      "2. saudi-arabia gp, with budget 101.1 mse error = 123.7\n",
      "penalty for best team 30\n",
      "predicted best team ['OCO', 'STR', 'SAI', 'MAG', 'ZHO', 'red', 'fer'], 2x driver SAI with actual score 196 with predicted score 239\n",
      "while actual best team ['ALO', 'LEC', 'HUL', 'BOT', 'COL', 'red', 'fer'] with best possible score of 253\n",
      "Number of drivers differed in predicted and actual best teams 5\n",
      "Number of drivers changed from previous team selection 5\n",
      "--- - -- - - - - -  - -\n",
      "3. australia gp, with budget 102.2 mse error = 210.25\n",
      "penalty for best team 0\n",
      "predicted best team ['OCO', 'STR', 'LEC', 'MAG', 'COL', 'red', 'fer'], 2x driver LEC with actual score 224 with predicted score 227\n",
      "while actual best team ['STR', 'LEC', 'SAI', 'HUL', 'TSU', 'fer', 'ast'] with best possible score of 287\n",
      "Number of drivers differed in predicted and actual best teams 4\n",
      "Number of drivers changed from previous team selection 2\n",
      "--- - -- - - - - -  - -\n",
      "4. japan gp, with budget 105.5 mse error = 85.7\n",
      "penalty for best team 10\n",
      "predicted best team ['GAS', 'STR', 'LEC', 'HUL', 'TSU', 'red', 'fer'], 2x driver LEC with actual score 267 with predicted score 231\n",
      "while actual best team ['GAS', 'HUL', 'BOT', 'VER', 'COL', 'red', 'fer'] with best possible score of 293\n",
      "Number of drivers differed in predicted and actual best teams 3\n",
      "Number of drivers changed from previous team selection 3\n",
      "--- - -- - - - - -  - -\n",
      "5. china gp, with budget 107.7 mse error = 117.8\n",
      "penalty for best team 10\n",
      "predicted best team ['GAS', 'HUL', 'ZHO', 'VER', 'COL', 'red', 'fer'], 2x driver VER with actual score 354 with predicted score 238\n",
      "while actual best team ['GAS', 'ZHO', 'VER', 'ALB', 'COL', 'red', 'fer'] with best possible score of 361\n",
      "Number of drivers differed in predicted and actual best teams 1\n",
      "Number of drivers changed from previous team selection 3\n",
      "--- - -- - - - - -  - -\n",
      "6. miami gp, with budget 109.2 mse error = 113.35\n",
      "penalty for best team 20\n",
      "predicted best team ['OCO', 'STR', 'SAI', 'MAG', 'ZHO', 'red', 'fer'], 2x driver SAI with actual score 229 with predicted score 250\n",
      "while actual best team ['GAS', 'LEC', 'ZHO', 'TSU', 'LAW', 'red', 'fer'] with best possible score of 304\n",
      "Number of drivers differed in predicted and actual best teams 4\n",
      "Number of drivers changed from previous team selection 4\n",
      "--- - -- - - - - -  - -\n",
      "7. emilia-romagna gp, with budget 110.6 mse error = 103.35\n",
      "penalty for best team 20\n",
      "predicted best team ['BOT', 'ZHO', 'VER', 'TSU', 'COL', 'red', 'fer'], 2x driver VER with actual score 187 with predicted score 261\n",
      "while actual best team ['MAG', 'ZHO', 'NOR', 'RUS', 'COL', 'mcl', 'mer'] with best possible score of 231\n",
      "Number of drivers differed in predicted and actual best teams 5\n",
      "Number of drivers changed from previous team selection 4\n",
      "--- - -- - - - - -  - -\n",
      "8. monaco gp, with budget 110.6 mse error = 355.95\n",
      "penalty for best team 0\n",
      "predicted best team ['GAS', 'HUL', 'BOT', 'VER', 'COL', 'red', 'fer'], 2x driver VER with actual score 81 with predicted score 251\n",
      "while actual best team ['LEC', 'BOT', 'PIA', 'ALB', 'COL', 'mcl', 'fer'] with best possible score of 255\n",
      "Number of drivers differed in predicted and actual best teams 4\n",
      "Number of drivers changed from previous team selection 2\n",
      "--- - -- - - - - -  - -\n",
      "9. canada gp, with budget 112.3 mse error = 347.1\n",
      "penalty for best team 0\n",
      "predicted best team ['GAS', 'HUL', 'BOT', 'VER', 'COL', 'red', 'fer'], 2x driver VER with actual score 105 with predicted score 212\n",
      "while actual best team ['OCO', 'STR', 'HUL', 'MAG', 'NOR', 'mcl', 'mer'] with best possible score of 274\n",
      "Number of drivers differed in predicted and actual best teams 6\n",
      "Number of drivers changed from previous team selection 0\n",
      "--- - -- - - - - -  - -\n",
      "10. spain gp, with budget 114.3 mse error = 55.95\n",
      "penalty for best team 0\n",
      "predicted best team ['GAS', 'HUL', 'ZHO', 'VER', 'COL', 'red', 'fer'], 2x driver VER with actual score 220 with predicted score 230\n",
      "while actual best team ['GAS', 'HUL', 'NOR', 'TSU', 'LAW', 'red', 'mer'] with best possible score of 274\n",
      "Number of drivers differed in predicted and actual best teams 4\n",
      "Number of drivers changed from previous team selection 1\n",
      "--- - -- - - - - -  - -\n",
      "11. austria gp, with budget 114.8 mse error = 88.15\n",
      "penalty for best team 0\n",
      "predicted best team ['HUL', 'BOT', 'ZHO', 'VER', 'ALB', 'red', 'fer'], 2x driver VER with actual score 217 with predicted score 217\n",
      "while actual best team ['HUL', 'MAG', 'PIA', 'RUS', 'ALB', 'fer', 'mer'] with best possible score of 320\n",
      "Number of drivers differed in predicted and actual best teams 4\n",
      "Number of drivers changed from previous team selection 2\n",
      "--- - -- - - - - -  - -\n",
      "12. great-britain gp, with budget 116.0 mse error = 125.7\n",
      "penalty for best team 30\n",
      "predicted best team ['MAG', 'NOR', 'TSU', 'ALB', 'COL', 'mcl', 'red'], 2x driver NOR with actual score 194 with predicted score 221\n",
      "while actual best team ['STR', 'HUL', 'MAG', 'HAM', 'COL', 'mcl', 'red'] with best possible score of 249\n",
      "Number of drivers differed in predicted and actual best teams 3\n",
      "Number of drivers changed from previous team selection 5\n",
      "--- - -- - - - - -  - -\n",
      "13. hungary gp, with budget 117.7 mse error = 61.45\n",
      "penalty for best team 20\n",
      "predicted best team ['BOT', 'ZHO', 'NOR', 'PIA', 'COL', 'mcl', 'mer'], 2x driver NOR with actual score 236 with predicted score 230\n",
      "while actual best team ['MAG', 'PIA', 'RUS', 'ALB', 'COL', 'mcl', 'mer'] with best possible score of 264\n",
      "Number of drivers differed in predicted and actual best teams 3\n",
      "Number of drivers changed from previous team selection 4\n",
      "--- - -- - - - - -  - -\n",
      "14. belgium gp, with budget 118.8 mse error = 110.9\n",
      "penalty for best team 20\n",
      "predicted best team ['OCO', 'HUL', 'ZHO', 'PIA', 'TSU', 'mcl', 'red'], 2x driver PIA with actual score 196 with predicted score 235\n",
      "while actual best team ['OCO', 'MAG', 'BOT', 'HAM', 'LAW', 'mcl', 'red'] with best possible score of 255\n",
      "Number of drivers differed in predicted and actual best teams 4\n",
      "Number of drivers changed from previous team selection 4\n",
      "--- - -- - - - - -  - -\n",
      "15. netherlands gp, with budget 120.0 mse error = 33.35\n",
      "penalty for best team 20\n",
      "predicted best team ['BOT', 'ZHO', 'NOR', 'PIA', 'COL', 'mcl', 'fer'], 2x driver NOR with actual score 271 with predicted score 214\n",
      "while actual best team ['GAS', 'HUL', 'MAG', 'NOR', 'LAW', 'mcl', 'fer'] with best possible score of 279\n",
      "Number of drivers differed in predicted and actual best teams 4\n",
      "Number of drivers changed from previous team selection 4\n",
      "--- - -- - - - - -  - -\n",
      "16. italy gp, with budget 120.4 mse error = 64.65\n",
      "penalty for best team 10\n",
      "predicted best team ['BOT', 'NOR', 'RUS', 'TSU', 'COL', 'mcl', 'mer'], 2x driver NOR with actual score 225 with predicted score 271\n",
      "while actual best team ['LEC', 'BOT', 'ZHO', 'NOR', 'COL', 'mcl', 'fer'] with best possible score of 297\n",
      "Number of drivers differed in predicted and actual best teams 3\n",
      "Number of drivers changed from previous team selection 3\n",
      "--- - -- - - - - -  - -\n",
      "17. azerbaijan gp, with budget 121.4 mse error = 106.85\n",
      "penalty for best team 0\n",
      "predicted best team ['HUL', 'ZHO', 'NOR', 'RUS', 'COL', 'mcl', 'mer'], 2x driver NOR with actual score 274 with predicted score 269\n",
      "while actual best team ['ZHO', 'NOR', 'PIA', 'ALB', 'COL', 'mcl', 'mer'] with best possible score of 301\n",
      "Number of drivers differed in predicted and actual best teams 2\n",
      "Number of drivers changed from previous team selection 2\n",
      "--- - -- - - - - -  - -\n",
      "18. singapore gp, with budget 123.9 mse error = 78.6\n",
      "penalty for best team 0\n",
      "predicted best team ['MAG', 'BOT', 'NOR', 'RUS', 'COL', 'mcl', 'mer'], 2x driver NOR with actual score 227 with predicted score 274\n",
      "while actual best team ['ZHO', 'NOR', 'RUS', 'LAW', 'COL', 'mcl', 'mer'] with best possible score of 254\n",
      "Number of drivers differed in predicted and actual best teams 2\n",
      "Number of drivers changed from previous team selection 2\n",
      "--- - -- - - - - -  - -\n",
      "19. united-states gp, with budget 125.0 mse error = 81.9\n",
      "penalty for best team 30\n",
      "predicted best team ['LEC', 'SAI', 'TSU', 'ALB', 'COL', 'mcl', 'fer'], 2x driver LEC with actual score 351 with predicted score 261\n",
      "while actual best team ['LEC', 'SAI', 'LAW', 'ALB', 'COL', 'mcl', 'fer'] with best possible score of 369\n",
      "Number of drivers differed in predicted and actual best teams 1\n",
      "Number of drivers changed from previous team selection 5\n",
      "--- - -- - - - - -  - -\n",
      "20. mexico gp, with budget 126.8 mse error = 108.35\n",
      "penalty for best team 0\n",
      "predicted best team ['SAI', 'MAG', 'RUS', 'ALB', 'COL', 'mcl', 'fer'], 2x driver SAI with actual score 274 with predicted score 271\n",
      "while actual best team ['SAI', 'MAG', 'ZHO', 'HAM', 'COL', 'mcl', 'fer'] with best possible score of 303\n",
      "Number of drivers differed in predicted and actual best teams 2\n",
      "Number of drivers changed from previous team selection 2\n",
      "--- - -- - - - - -  - -\n",
      "21. brazil gp, with budget 129.1 mse error = 339.5\n",
      "penalty for best team 20\n",
      "predicted best team ['GAS', 'LEC', 'ZHO', 'RUS', 'TSU', 'mcl', 'fer'], 2x driver LEC with actual score 207 with predicted score 220\n",
      "while actual best team ['GAS', 'OCO', 'ZHO', 'VER', 'PER', 'red', 'alp'] with best possible score of 422\n",
      "Number of drivers differed in predicted and actual best teams 5\n",
      "Number of drivers changed from previous team selection 4\n",
      "--- - -- - - - - -  - -\n",
      "22. las-vegas gp, with budget 132.1 mse error = 109.95\n",
      "penalty for best team 20\n",
      "predicted best team ['GAS', 'SAI', 'HUL', 'HAM', 'TSU', 'fer', 'mer'], 2x driver SAI with actual score 276 with predicted score 264\n",
      "while actual best team ['ALO', 'HUL', 'HAM', 'RUS', 'COL', 'fer', 'mer'] with best possible score of 320\n",
      "Number of drivers differed in predicted and actual best teams 3\n",
      "Number of drivers changed from previous team selection 4\n",
      "--- - -- - - - - -  - -\n",
      "23. qatar gp, with budget 134.6 mse error = 181.7\n",
      "penalty for best team 30\n",
      "predicted best team ['HUL', 'BOT', 'ZHO', 'RUS', 'VER', 'mcl', 'fer'], 2x driver RUS with actual score 262 with predicted score 251\n",
      "while actual best team ['GAS', 'LEC', 'BOT', 'ZHO', 'PIA', 'mcl', 'fer'] with best possible score of 318\n",
      "Number of drivers differed in predicted and actual best teams 3\n",
      "Number of drivers changed from previous team selection 5\n",
      "--- - -- - - - - -  - -\n",
      "24. abu-dhabi gp, with budget 136.6 mse error = 165.6\n",
      "penalty for best team 30\n",
      "predicted best team ['GAS', 'OCO', 'VER', 'TSU', 'ALB', 'red', 'fer'], 2x driver VER with actual score 184 with predicted score 269\n",
      "while actual best team ['GAS', 'LEC', 'HUL', 'HAM', 'ALB', 'mcl', 'fer'] with best possible score of 327\n",
      "Number of drivers differed in predicted and actual best teams 4\n",
      "Number of drivers changed from previous team selection 5\n",
      "--- - -- - - - - -  - -\n",
      "Season score of predicted teams 5446, while actual teams 7077\n",
      "Avg differing suggestions of 3.5\n"
     ]
    }
   ],
   "source": [
    "# %%capture cap\n",
    "\n",
    "change_message = \"encouraging_additional_change\"\n",
    "budget = 100\n",
    "driver_name_to_driver_code_mapping = {v:k for k,v in driver_code_to_driver_name_mapping.items()}\n",
    "\n",
    "\n",
    "actual_best_team_score_array = []\n",
    "predicted_team_score_array = []\n",
    "previous_actual_best_team_code = []\n",
    "previous_predicted_best_team = []\n",
    "previous_predicted_best_team_code = None\n",
    "\n",
    "## visualization things\n",
    "mse_error_array = []\n",
    "race_name_array = []\n",
    "score_of_predicted_team_array = []\n",
    "theoretical_best_score_array = []\n",
    "differing_team_members = []\n",
    "# Run simulation\n",
    "for i in range(1,25):\n",
    "    penalty_for_additional_team_change = 0\n",
    "    constructor_dict = read_json(os.path.join(team_data_path, \"constructor_info.json\"))\n",
    "    race_df = prediction_df[prediction_df[\"race_no\"] == i]\n",
    "    # keeping cost and scores in dict for fast reading\n",
    "    master_dict = {}\n",
    "    master_dict[\"driver\"] = form_driver_cost_score_dict(race_df)\n",
    "    master_dict[\"team\"] = update_constructor_with_predicted_fantasy_score(constructor_dict[f\"race_{i}\"], race_df)\n",
    "    print(f\"{i}. {race_df.race_name.values[0]} gp, with budget {round(budget,2)} mse error = {round(calculate_mse_for_df(race_df),3)}\")\n",
    "    mse_error_array.append(round(calculate_mse_for_df(race_df),3))\n",
    "    # finding best predicted and actual top team\n",
    "    predicted_best_team_df, actual_best_team_df = find_top_teams(master_dict, budget, 1, previous_predicted_best_team)\n",
    "    # predicted_best_team, actual_best_team = find_top_teams(master_dict, budget, 1, previous_predicted_best_team)\n",
    "    \n",
    "    ## extract relevant info from top teams\n",
    "    predicted_best_team = predicted_best_team_df[\"team\"].values[0]\n",
    "    predicted_best_team_actual_score = predicted_best_team_df[\"real_score\"].values[0]\n",
    "    driver_2x = predicted_best_team_df[\"2x_driver\"].values[0]\n",
    "    predicted_fantasy_score = predicted_best_team_df[\"predicted_score\"].values[0]\n",
    "\n",
    "    actual_best_team = actual_best_team_df[\"team\"].values[0]\n",
    "    actual_best_team_actual_score = actual_best_team_df[\"real_score\"].values[0]\n",
    "\n",
    "    penalty_for_additional_team_change = predicted_best_team_df[\"additional_change_penalty\"].values[0]\n",
    "    predicted_best_team_code = [driver_name_to_driver_code_mapping[x] for x in predicted_best_team_df[\"team\"].values[0][:5]] + predicted_best_team_df[\"team\"].values[0][-2:]\n",
    "    actual_best_team_code = [driver_name_to_driver_code_mapping[x] for x in actual_best_team_df[\"team\"].values[0][:5]] + actual_best_team_df[\"team\"].values[0][-2:]\n",
    "    \n",
    "    ## new budget will be old team's cost\n",
    "    budget += calculate_cost_change(predicted_best_team_df[\"team\"].values[0], master_dict) #predicted_best_team.cost.values[0]\n",
    "    \n",
    "    # calculate additional team change penalty\n",
    "    previous_predicted_best_team_code = previous_predicted_best_team_code if previous_predicted_best_team_code is not None else predicted_best_team_code\n",
    "    additional_team_change = how_many_drivers_differ(predicted_best_team_code, previous_predicted_best_team_code)\n",
    "    \n",
    "    # set current predicted best team as previous team for next race\n",
    "    previous_predicted_best_team = predicted_best_team\n",
    "    previous_predicted_best_team_code = predicted_best_team_code\n",
    "    \n",
    "    # penalty adjusted fantasy scores\n",
    "    predicted_teams_penalty_adjusted_actual_score = predicted_best_team_actual_score #- penalty_for_additional_team_change\n",
    "    actual_teams_penalty_adjusted_actual_score = actual_best_team_actual_score #- penalty_for_additional_team_change\n",
    "    \n",
    "    predicted_team_score_array.append(predicted_teams_penalty_adjusted_actual_score)\n",
    "    actual_best_team_score_array.append(actual_teams_penalty_adjusted_actual_score)\n",
    "    differing_team_members.append(how_many_drivers_differ(actual_best_team_code,predicted_best_team_code))\n",
    "    \n",
    "    race_name_array.append(race_df.race_name.values[0])\n",
    "    score_of_predicted_team_array.append(predicted_teams_penalty_adjusted_actual_score)\n",
    "    theoretical_best_score_array.append(actual_teams_penalty_adjusted_actual_score)\n",
    "\n",
    "    print(f\"penalty for best team {penalty_for_additional_team_change}\")\n",
    "    print(f\"predicted best team {predicted_best_team_code}, 2x driver {driver_name_to_driver_code_mapping[driver_2x]} with actual score {predicted_teams_penalty_adjusted_actual_score} with predicted score {predicted_fantasy_score}\")\n",
    "    print(f\"while actual best team {actual_best_team_code} with best possible score of {actual_teams_penalty_adjusted_actual_score}\")\n",
    "    print(f\"Number of drivers differed in predicted and actual best teams {differing_team_members[-1]}\")\n",
    "    print(f\"Number of drivers changed from previous team selection {additional_team_change}\")\n",
    "    print(\"--- - -- - - - - -  - -\")\n",
    "\n",
    "differing_team_members_avg = round(np.mean(differing_team_members),2)\n",
    "print(f\"Season score of predicted teams {np.sum(predicted_team_score_array)}, while actual teams {np.sum(actual_best_team_score_array)}\")\n",
    "print(f\"Avg differing suggestions of {differing_team_members_avg}\")\n",
    "current_time = str(datetime.isoformat(datetime.now()).split(\".\")[0]).replace(\":\",\"_\")\n",
    "\n",
    "# with open(f\"notebooks/score_{np.sum(predicted_team_score_array)}_differing_{differing_team_members_avg}_{change_message}_{current_time}.txt\", 'w') as f:\n",
    "#     f.write(cap.stdout)\n",
    "\n"
   ]
  },
  {
   "cell_type": "code",
   "execution_count": 32,
   "id": "b6927904",
   "metadata": {},
   "outputs": [],
   "source": [
    "with open(f\"notebooks/score_{np.sum(predicted_team_score_array)}_differing_{differing_team_members_avg}_{change_message}_{current_time}.txt\", 'w') as f:\n",
    "    f.write(cap.stdout)"
   ]
  },
  {
   "cell_type": "markdown",
   "id": "796a6a7f",
   "metadata": {},
   "source": [
    "Visualizations"
   ]
  },
  {
   "cell_type": "code",
   "execution_count": 42,
   "id": "a24dd6a9",
   "metadata": {},
   "outputs": [
    {
     "data": {
      "text/plain": [
       "([118.45,\n",
       "  123.7,\n",
       "  210.25,\n",
       "  85.7,\n",
       "  117.8,\n",
       "  113.35,\n",
       "  103.35,\n",
       "  355.95,\n",
       "  347.1,\n",
       "  55.95,\n",
       "  88.15,\n",
       "  125.7,\n",
       "  61.45,\n",
       "  110.9,\n",
       "  33.35,\n",
       "  64.65,\n",
       "  106.85,\n",
       "  78.6,\n",
       "  81.9,\n",
       "  108.35,\n",
       "  339.5,\n",
       "  109.95,\n",
       "  181.7,\n",
       "  165.6],\n",
       " ['bahrain',\n",
       "  'saudi-arabia',\n",
       "  'australia',\n",
       "  'japan',\n",
       "  'china',\n",
       "  'miami',\n",
       "  'emilia-romagna',\n",
       "  'monaco',\n",
       "  'canada',\n",
       "  'spain',\n",
       "  'austria',\n",
       "  'great-britain',\n",
       "  'hungary',\n",
       "  'belgium',\n",
       "  'netherlands',\n",
       "  'italy',\n",
       "  'azerbaijan',\n",
       "  'singapore',\n",
       "  'united-states',\n",
       "  'mexico',\n",
       "  'brazil',\n",
       "  'las-vegas',\n",
       "  'qatar',\n",
       "  'abu-dhabi'],\n",
       " [189,\n",
       "  196,\n",
       "  224,\n",
       "  267,\n",
       "  354,\n",
       "  229,\n",
       "  187,\n",
       "  81,\n",
       "  105,\n",
       "  220,\n",
       "  217,\n",
       "  194,\n",
       "  236,\n",
       "  196,\n",
       "  271,\n",
       "  225,\n",
       "  274,\n",
       "  227,\n",
       "  351,\n",
       "  274,\n",
       "  207,\n",
       "  276,\n",
       "  262,\n",
       "  184],\n",
       " [267,\n",
       "  253,\n",
       "  287,\n",
       "  293,\n",
       "  361,\n",
       "  304,\n",
       "  231,\n",
       "  255,\n",
       "  274,\n",
       "  274,\n",
       "  320,\n",
       "  249,\n",
       "  264,\n",
       "  255,\n",
       "  279,\n",
       "  297,\n",
       "  301,\n",
       "  254,\n",
       "  369,\n",
       "  303,\n",
       "  422,\n",
       "  320,\n",
       "  318,\n",
       "  327],\n",
       " [5, 5, 4, 3, 1, 4, 5, 4, 6, 4, 4, 3, 3, 4, 4, 3, 2, 2, 1, 2, 5, 3, 3, 4])"
      ]
     },
     "execution_count": 42,
     "metadata": {},
     "output_type": "execute_result"
    }
   ],
   "source": [
    "mse_error_array , race_name_array , score_of_predicted_team_array, theoretical_best_score_array, differing_team_members"
   ]
  },
  {
   "cell_type": "code",
   "execution_count": 45,
   "id": "ba0d5adf",
   "metadata": {},
   "outputs": [],
   "source": [
    "import plotly.express as px \n",
    "df = pd.DataFrame({\n",
    "    \"race\": race_name_array,\n",
    "    \"error\" : mse_error_array,\n",
    "    \"score_of_predicted_team\": score_of_predicted_team_array,\n",
    "    \"score_of_theoretical_best_team\": theoretical_best_score_array\n",
    "})\n"
   ]
  },
  {
   "cell_type": "code",
   "execution_count": 81,
   "id": "d7090560",
   "metadata": {},
   "outputs": [
    {
     "data": {
      "application/vnd.plotly.v1+json": {
       "config": {
        "plotlyServerURL": "https://plot.ly"
       },
       "data": [
        {
         "hovertemplate": "variable=error<br>Race=%{x}<br>Score=%{y}<extra></extra>",
         "legendgroup": "error",
         "line": {
          "color": "red",
          "dash": "dash",
          "shape": "spline"
         },
         "marker": {
          "symbol": "circle"
         },
         "mode": "lines+markers",
         "name": "error",
         "orientation": "v",
         "showlegend": true,
         "type": "scatter",
         "x": [
          "bahrain",
          "saudi-arabia",
          "australia",
          "japan",
          "china",
          "miami",
          "emilia-romagna",
          "monaco",
          "canada",
          "spain",
          "austria",
          "great-britain",
          "hungary",
          "belgium",
          "netherlands",
          "italy",
          "azerbaijan",
          "singapore",
          "united-states",
          "mexico",
          "brazil",
          "las-vegas",
          "qatar",
          "abu-dhabi"
         ],
         "xaxis": "x",
         "y": {
          "bdata": "zczMzMycXUDNzMzMzOxeQAAAAAAASGpAzczMzMxsVUAzMzMzM3NdQGZmZmZmVlxAZmZmZmbWWUAzMzMzMz92QJqZmZmZsXVAmpmZmZn5S0CamZmZmQlWQM3MzMzMbF9AmpmZmZm5TkCamZmZmblbQM3MzMzMrEBAmpmZmZkpUEBmZmZmZrZaQGZmZmZmplNAmpmZmZl5VEBmZmZmZhZbQAAAAAAAOHVAzczMzMx8W0BmZmZmZrZmQDMzMzMzs2RA",
          "dtype": "f8"
         },
         "yaxis": "y"
        },
        {
         "hovertemplate": "variable=score_of_predicted_team<br>Race=%{x}<br>Score=%{y}<extra></extra>",
         "legendgroup": "score_of_predicted_team",
         "line": {
          "color": "blue",
          "dash": "solid",
          "shape": "spline"
         },
         "marker": {
          "symbol": "circle"
         },
         "mode": "lines+markers",
         "name": "score_of_predicted_team",
         "orientation": "v",
         "showlegend": true,
         "type": "scatter",
         "x": [
          "bahrain",
          "saudi-arabia",
          "australia",
          "japan",
          "china",
          "miami",
          "emilia-romagna",
          "monaco",
          "canada",
          "spain",
          "austria",
          "great-britain",
          "hungary",
          "belgium",
          "netherlands",
          "italy",
          "azerbaijan",
          "singapore",
          "united-states",
          "mexico",
          "brazil",
          "las-vegas",
          "qatar",
          "abu-dhabi"
         ],
         "xaxis": "x",
         "y": {
          "bdata": "AAAAAACgZ0AAAAAAAIBoQAAAAAAAAGxAAAAAAACwcEAAAAAAACB2QAAAAAAAoGxAAAAAAABgZ0AAAAAAAEBUQAAAAAAAQFpAAAAAAACAa0AAAAAAACBrQAAAAAAAQGhAAAAAAACAbUAAAAAAAIBoQAAAAAAA8HBAAAAAAAAgbEAAAAAAACBxQAAAAAAAYGxAAAAAAADwdUAAAAAAACBxQAAAAAAA4GlAAAAAAABAcUAAAAAAAGBwQAAAAAAAAGdA",
          "dtype": "f8"
         },
         "yaxis": "y"
        },
        {
         "hovertemplate": "variable=score_of_theoretical_best_team<br>Race=%{x}<br>Score=%{y}<extra></extra>",
         "legendgroup": "score_of_theoretical_best_team",
         "line": {
          "color": "green",
          "dash": "solid",
          "shape": "spline"
         },
         "marker": {
          "symbol": "circle"
         },
         "mode": "lines+markers",
         "name": "score_of_theoretical_best_team",
         "orientation": "v",
         "showlegend": true,
         "type": "scatter",
         "x": [
          "bahrain",
          "saudi-arabia",
          "australia",
          "japan",
          "china",
          "miami",
          "emilia-romagna",
          "monaco",
          "canada",
          "spain",
          "austria",
          "great-britain",
          "hungary",
          "belgium",
          "netherlands",
          "italy",
          "azerbaijan",
          "singapore",
          "united-states",
          "mexico",
          "brazil",
          "las-vegas",
          "qatar",
          "abu-dhabi"
         ],
         "xaxis": "x",
         "y": {
          "bdata": "AAAAAACwcEAAAAAAAKBvQAAAAAAA8HFAAAAAAABQckAAAAAAAJB2QAAAAAAAAHNAAAAAAADgbEAAAAAAAOBvQAAAAAAAIHFAAAAAAAAgcUAAAAAAAAB0QAAAAAAAIG9AAAAAAACAcEAAAAAAAOBvQAAAAAAAcHFAAAAAAACQckAAAAAAANByQAAAAAAAwG9AAAAAAAAQd0AAAAAAAPByQAAAAAAAYHpAAAAAAAAAdEAAAAAAAOBzQAAAAAAAcHRA",
          "dtype": "f8"
         },
         "yaxis": "y"
        }
       ],
       "layout": {
        "height": 500,
        "legend": {
         "title": {
          "text": "variable"
         },
         "tracegroupgap": 0
        },
        "template": {
         "data": {
          "bar": [
           {
            "error_x": {
             "color": "#2a3f5f"
            },
            "error_y": {
             "color": "#2a3f5f"
            },
            "marker": {
             "line": {
              "color": "#E5ECF6",
              "width": 0.5
             },
             "pattern": {
              "fillmode": "overlay",
              "size": 10,
              "solidity": 0.2
             }
            },
            "type": "bar"
           }
          ],
          "barpolar": [
           {
            "marker": {
             "line": {
              "color": "#E5ECF6",
              "width": 0.5
             },
             "pattern": {
              "fillmode": "overlay",
              "size": 10,
              "solidity": 0.2
             }
            },
            "type": "barpolar"
           }
          ],
          "carpet": [
           {
            "aaxis": {
             "endlinecolor": "#2a3f5f",
             "gridcolor": "white",
             "linecolor": "white",
             "minorgridcolor": "white",
             "startlinecolor": "#2a3f5f"
            },
            "baxis": {
             "endlinecolor": "#2a3f5f",
             "gridcolor": "white",
             "linecolor": "white",
             "minorgridcolor": "white",
             "startlinecolor": "#2a3f5f"
            },
            "type": "carpet"
           }
          ],
          "choropleth": [
           {
            "colorbar": {
             "outlinewidth": 0,
             "ticks": ""
            },
            "type": "choropleth"
           }
          ],
          "contour": [
           {
            "colorbar": {
             "outlinewidth": 0,
             "ticks": ""
            },
            "colorscale": [
             [
              0,
              "#0d0887"
             ],
             [
              0.1111111111111111,
              "#46039f"
             ],
             [
              0.2222222222222222,
              "#7201a8"
             ],
             [
              0.3333333333333333,
              "#9c179e"
             ],
             [
              0.4444444444444444,
              "#bd3786"
             ],
             [
              0.5555555555555556,
              "#d8576b"
             ],
             [
              0.6666666666666666,
              "#ed7953"
             ],
             [
              0.7777777777777778,
              "#fb9f3a"
             ],
             [
              0.8888888888888888,
              "#fdca26"
             ],
             [
              1,
              "#f0f921"
             ]
            ],
            "type": "contour"
           }
          ],
          "contourcarpet": [
           {
            "colorbar": {
             "outlinewidth": 0,
             "ticks": ""
            },
            "type": "contourcarpet"
           }
          ],
          "heatmap": [
           {
            "colorbar": {
             "outlinewidth": 0,
             "ticks": ""
            },
            "colorscale": [
             [
              0,
              "#0d0887"
             ],
             [
              0.1111111111111111,
              "#46039f"
             ],
             [
              0.2222222222222222,
              "#7201a8"
             ],
             [
              0.3333333333333333,
              "#9c179e"
             ],
             [
              0.4444444444444444,
              "#bd3786"
             ],
             [
              0.5555555555555556,
              "#d8576b"
             ],
             [
              0.6666666666666666,
              "#ed7953"
             ],
             [
              0.7777777777777778,
              "#fb9f3a"
             ],
             [
              0.8888888888888888,
              "#fdca26"
             ],
             [
              1,
              "#f0f921"
             ]
            ],
            "type": "heatmap"
           }
          ],
          "histogram": [
           {
            "marker": {
             "pattern": {
              "fillmode": "overlay",
              "size": 10,
              "solidity": 0.2
             }
            },
            "type": "histogram"
           }
          ],
          "histogram2d": [
           {
            "colorbar": {
             "outlinewidth": 0,
             "ticks": ""
            },
            "colorscale": [
             [
              0,
              "#0d0887"
             ],
             [
              0.1111111111111111,
              "#46039f"
             ],
             [
              0.2222222222222222,
              "#7201a8"
             ],
             [
              0.3333333333333333,
              "#9c179e"
             ],
             [
              0.4444444444444444,
              "#bd3786"
             ],
             [
              0.5555555555555556,
              "#d8576b"
             ],
             [
              0.6666666666666666,
              "#ed7953"
             ],
             [
              0.7777777777777778,
              "#fb9f3a"
             ],
             [
              0.8888888888888888,
              "#fdca26"
             ],
             [
              1,
              "#f0f921"
             ]
            ],
            "type": "histogram2d"
           }
          ],
          "histogram2dcontour": [
           {
            "colorbar": {
             "outlinewidth": 0,
             "ticks": ""
            },
            "colorscale": [
             [
              0,
              "#0d0887"
             ],
             [
              0.1111111111111111,
              "#46039f"
             ],
             [
              0.2222222222222222,
              "#7201a8"
             ],
             [
              0.3333333333333333,
              "#9c179e"
             ],
             [
              0.4444444444444444,
              "#bd3786"
             ],
             [
              0.5555555555555556,
              "#d8576b"
             ],
             [
              0.6666666666666666,
              "#ed7953"
             ],
             [
              0.7777777777777778,
              "#fb9f3a"
             ],
             [
              0.8888888888888888,
              "#fdca26"
             ],
             [
              1,
              "#f0f921"
             ]
            ],
            "type": "histogram2dcontour"
           }
          ],
          "mesh3d": [
           {
            "colorbar": {
             "outlinewidth": 0,
             "ticks": ""
            },
            "type": "mesh3d"
           }
          ],
          "parcoords": [
           {
            "line": {
             "colorbar": {
              "outlinewidth": 0,
              "ticks": ""
             }
            },
            "type": "parcoords"
           }
          ],
          "pie": [
           {
            "automargin": true,
            "type": "pie"
           }
          ],
          "scatter": [
           {
            "fillpattern": {
             "fillmode": "overlay",
             "size": 10,
             "solidity": 0.2
            },
            "type": "scatter"
           }
          ],
          "scatter3d": [
           {
            "line": {
             "colorbar": {
              "outlinewidth": 0,
              "ticks": ""
             }
            },
            "marker": {
             "colorbar": {
              "outlinewidth": 0,
              "ticks": ""
             }
            },
            "type": "scatter3d"
           }
          ],
          "scattercarpet": [
           {
            "marker": {
             "colorbar": {
              "outlinewidth": 0,
              "ticks": ""
             }
            },
            "type": "scattercarpet"
           }
          ],
          "scattergeo": [
           {
            "marker": {
             "colorbar": {
              "outlinewidth": 0,
              "ticks": ""
             }
            },
            "type": "scattergeo"
           }
          ],
          "scattergl": [
           {
            "marker": {
             "colorbar": {
              "outlinewidth": 0,
              "ticks": ""
             }
            },
            "type": "scattergl"
           }
          ],
          "scattermap": [
           {
            "marker": {
             "colorbar": {
              "outlinewidth": 0,
              "ticks": ""
             }
            },
            "type": "scattermap"
           }
          ],
          "scattermapbox": [
           {
            "marker": {
             "colorbar": {
              "outlinewidth": 0,
              "ticks": ""
             }
            },
            "type": "scattermapbox"
           }
          ],
          "scatterpolar": [
           {
            "marker": {
             "colorbar": {
              "outlinewidth": 0,
              "ticks": ""
             }
            },
            "type": "scatterpolar"
           }
          ],
          "scatterpolargl": [
           {
            "marker": {
             "colorbar": {
              "outlinewidth": 0,
              "ticks": ""
             }
            },
            "type": "scatterpolargl"
           }
          ],
          "scatterternary": [
           {
            "marker": {
             "colorbar": {
              "outlinewidth": 0,
              "ticks": ""
             }
            },
            "type": "scatterternary"
           }
          ],
          "surface": [
           {
            "colorbar": {
             "outlinewidth": 0,
             "ticks": ""
            },
            "colorscale": [
             [
              0,
              "#0d0887"
             ],
             [
              0.1111111111111111,
              "#46039f"
             ],
             [
              0.2222222222222222,
              "#7201a8"
             ],
             [
              0.3333333333333333,
              "#9c179e"
             ],
             [
              0.4444444444444444,
              "#bd3786"
             ],
             [
              0.5555555555555556,
              "#d8576b"
             ],
             [
              0.6666666666666666,
              "#ed7953"
             ],
             [
              0.7777777777777778,
              "#fb9f3a"
             ],
             [
              0.8888888888888888,
              "#fdca26"
             ],
             [
              1,
              "#f0f921"
             ]
            ],
            "type": "surface"
           }
          ],
          "table": [
           {
            "cells": {
             "fill": {
              "color": "#EBF0F8"
             },
             "line": {
              "color": "white"
             }
            },
            "header": {
             "fill": {
              "color": "#C8D4E3"
             },
             "line": {
              "color": "white"
             }
            },
            "type": "table"
           }
          ]
         },
         "layout": {
          "annotationdefaults": {
           "arrowcolor": "#2a3f5f",
           "arrowhead": 0,
           "arrowwidth": 1
          },
          "autotypenumbers": "strict",
          "coloraxis": {
           "colorbar": {
            "outlinewidth": 0,
            "ticks": ""
           }
          },
          "colorscale": {
           "diverging": [
            [
             0,
             "#8e0152"
            ],
            [
             0.1,
             "#c51b7d"
            ],
            [
             0.2,
             "#de77ae"
            ],
            [
             0.3,
             "#f1b6da"
            ],
            [
             0.4,
             "#fde0ef"
            ],
            [
             0.5,
             "#f7f7f7"
            ],
            [
             0.6,
             "#e6f5d0"
            ],
            [
             0.7,
             "#b8e186"
            ],
            [
             0.8,
             "#7fbc41"
            ],
            [
             0.9,
             "#4d9221"
            ],
            [
             1,
             "#276419"
            ]
           ],
           "sequential": [
            [
             0,
             "#0d0887"
            ],
            [
             0.1111111111111111,
             "#46039f"
            ],
            [
             0.2222222222222222,
             "#7201a8"
            ],
            [
             0.3333333333333333,
             "#9c179e"
            ],
            [
             0.4444444444444444,
             "#bd3786"
            ],
            [
             0.5555555555555556,
             "#d8576b"
            ],
            [
             0.6666666666666666,
             "#ed7953"
            ],
            [
             0.7777777777777778,
             "#fb9f3a"
            ],
            [
             0.8888888888888888,
             "#fdca26"
            ],
            [
             1,
             "#f0f921"
            ]
           ],
           "sequentialminus": [
            [
             0,
             "#0d0887"
            ],
            [
             0.1111111111111111,
             "#46039f"
            ],
            [
             0.2222222222222222,
             "#7201a8"
            ],
            [
             0.3333333333333333,
             "#9c179e"
            ],
            [
             0.4444444444444444,
             "#bd3786"
            ],
            [
             0.5555555555555556,
             "#d8576b"
            ],
            [
             0.6666666666666666,
             "#ed7953"
            ],
            [
             0.7777777777777778,
             "#fb9f3a"
            ],
            [
             0.8888888888888888,
             "#fdca26"
            ],
            [
             1,
             "#f0f921"
            ]
           ]
          },
          "colorway": [
           "#636efa",
           "#EF553B",
           "#00cc96",
           "#ab63fa",
           "#FFA15A",
           "#19d3f3",
           "#FF6692",
           "#B6E880",
           "#FF97FF",
           "#FECB52"
          ],
          "font": {
           "color": "#2a3f5f"
          },
          "geo": {
           "bgcolor": "white",
           "lakecolor": "white",
           "landcolor": "#E5ECF6",
           "showlakes": true,
           "showland": true,
           "subunitcolor": "white"
          },
          "hoverlabel": {
           "align": "left"
          },
          "hovermode": "closest",
          "mapbox": {
           "style": "light"
          },
          "paper_bgcolor": "white",
          "plot_bgcolor": "#E5ECF6",
          "polar": {
           "angularaxis": {
            "gridcolor": "white",
            "linecolor": "white",
            "ticks": ""
           },
           "bgcolor": "#E5ECF6",
           "radialaxis": {
            "gridcolor": "white",
            "linecolor": "white",
            "ticks": ""
           }
          },
          "scene": {
           "xaxis": {
            "backgroundcolor": "#E5ECF6",
            "gridcolor": "white",
            "gridwidth": 2,
            "linecolor": "white",
            "showbackground": true,
            "ticks": "",
            "zerolinecolor": "white"
           },
           "yaxis": {
            "backgroundcolor": "#E5ECF6",
            "gridcolor": "white",
            "gridwidth": 2,
            "linecolor": "white",
            "showbackground": true,
            "ticks": "",
            "zerolinecolor": "white"
           },
           "zaxis": {
            "backgroundcolor": "#E5ECF6",
            "gridcolor": "white",
            "gridwidth": 2,
            "linecolor": "white",
            "showbackground": true,
            "ticks": "",
            "zerolinecolor": "white"
           }
          },
          "shapedefaults": {
           "line": {
            "color": "#2a3f5f"
           }
          },
          "ternary": {
           "aaxis": {
            "gridcolor": "white",
            "linecolor": "white",
            "ticks": ""
           },
           "baxis": {
            "gridcolor": "white",
            "linecolor": "white",
            "ticks": ""
           },
           "bgcolor": "#E5ECF6",
           "caxis": {
            "gridcolor": "white",
            "linecolor": "white",
            "ticks": ""
           }
          },
          "title": {
           "x": 0.05
          },
          "xaxis": {
           "automargin": true,
           "gridcolor": "white",
           "linecolor": "white",
           "ticks": "",
           "title": {
            "standoff": 15
           },
           "zerolinecolor": "white",
           "zerolinewidth": 2
          },
          "yaxis": {
           "automargin": true,
           "gridcolor": "white",
           "linecolor": "white",
           "ticks": "",
           "title": {
            "standoff": 15
           },
           "zerolinecolor": "white",
           "zerolinewidth": 2
          }
         }
        },
        "title": {
         "text": "Simulation of 2024 F1 season"
        },
        "width": 1200,
        "xaxis": {
         "anchor": "y",
         "domain": [
          0,
          1
         ],
         "tickangle": 90,
         "title": {
          "text": "Race"
         }
        },
        "yaxis": {
         "anchor": "x",
         "domain": [
          0,
          1
         ],
         "title": {
          "text": "Score"
         }
        }
       }
      }
     },
     "metadata": {},
     "output_type": "display_data"
    }
   ],
   "source": [
    "fig = px.line(df, x='race', y=df.columns[1:4], title=\"Simulation of 2024 F1 season\", height = 500, width=1200, \n",
    "              labels={\"race\": \"Race\", \"value\": \"Score\"}, line_shape = \"spline\", markers=True,\n",
    "              color_discrete_sequence=[\"red\", \"blue\", \"green\"],\n",
    "            #   line_dash_map={'error': 'dash'},\n",
    "              line_dash_sequence=[\"solid\", \"dot\", \"dot\"],\n",
    "              )\n",
    "fig.update_xaxes(tickangle=90)\n",
    "fig.update_traces(\n",
    "    selector={\"name\": \"error\"}, \n",
    "    line={\"dash\": \"dash\"}\n",
    ")\n",
    "fig.show()"
   ]
  },
  {
   "cell_type": "code",
   "execution_count": null,
   "id": "d5f65dd5",
   "metadata": {},
   "outputs": [],
   "source": []
  }
 ],
 "metadata": {
  "kernelspec": {
   "display_name": "work",
   "language": "python",
   "name": "python3"
  },
  "language_info": {
   "codemirror_mode": {
    "name": "ipython",
    "version": 3
   },
   "file_extension": ".py",
   "mimetype": "text/x-python",
   "name": "python",
   "nbconvert_exporter": "python",
   "pygments_lexer": "ipython3",
   "version": "3.12.3"
  }
 },
 "nbformat": 4,
 "nbformat_minor": 5
}
